{
  "cells": [
    {
      "cell_type": "markdown",
      "metadata": {
        "id": "JaOrz-2uHeKA"
      },
      "source": [
        "# Instalação do Llama.cpp e Dependências\n",
        "\n",
        "Esta etapa pode demorar alguns minutos."
      ]
    },
    {
      "cell_type": "code",
      "execution_count": null,
      "metadata": {
        "id": "1PruW1vaATwa"
      },
      "outputs": [],
      "source": [
        "!git clone https://github.com/ggerganov/llama.cpp"
      ]
    },
    {
      "cell_type": "code",
      "execution_count": null,
      "metadata": {
        "id": "jegsiMkjAaVz"
      },
      "outputs": [],
      "source": [
        "!pip install -r llama.cpp/requirements.txt"
      ]
    },
    {
      "cell_type": "code",
      "execution_count": null,
      "metadata": {
        "id": "TtY5DTCLIyDu"
      },
      "outputs": [],
      "source": [
        "!cd llama.cpp && make"
      ]
    },
    {
      "cell_type": "markdown",
      "metadata": {
        "id": "19bP4d8_IGoz"
      },
      "source": [
        "## Obtém o modelo desejado"
      ]
    },
    {
      "cell_type": "code",
      "execution_count": null,
      "metadata": {
        "id": "QE7uXUTZAkAc"
      },
      "outputs": [],
      "source": [
        "!cd llama.cpp/models && wget https://huggingface.co/lucianosb/sabia-7b-GGUF/resolve/main/sabia7b-q8_0.gguf"
      ]
    },
    {
      "cell_type": "markdown",
      "metadata": {
        "id": "dsZNvOFqHWJT"
      },
      "source": [
        "# Inferência"
      ]
    },
    {
      "cell_type": "code",
      "execution_count": null,
      "metadata": {
        "id": "2KR213E3OGhz"
      },
      "outputs": [],
      "source": [
        "# Edite apenas a porção INSTRUÇÃO do prompt em -p\n",
        "\n",
        "comando = \"Conte a historia do Curupira.\" #@param {type:\"string\"}\n",
        "\n",
        "!cd llama.cpp && ./main -m ./models/sabia7b-q8_0.gguf --color --temp 0.7 -n 256 -p \"### Instrução: {comando} ### Resposta:\""
      ]
    },
    {
      "cell_type": "code",
      "execution_count": 5,
      "metadata": {
        "id": "5eR7RWKRRbra"
      },
      "outputs": [],
      "source": []
    }
  ],
  "metadata": {
    "colab": {
      "provenance": []
    },
    "kernelspec": {
      "display_name": "Python 3",
      "name": "python3"
    },
    "language_info": {
      "name": "python"
    }
  },
  "nbformat": 4,
  "nbformat_minor": 0
}
